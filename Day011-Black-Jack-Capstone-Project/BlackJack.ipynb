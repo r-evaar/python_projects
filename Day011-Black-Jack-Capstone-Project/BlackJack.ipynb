{
 "cells": [
  {
   "cell_type": "code",
   "execution_count": 1,
   "id": "d4ce4e7a",
   "metadata": {},
   "outputs": [],
   "source": [
    "cards = [11, 2, 3, 4, 5, 6, 7, 8, 9, 10, 10, 10, 10]"
   ]
  },
  {
   "cell_type": "code",
   "execution_count": 2,
   "id": "c4c8cb69",
   "metadata": {},
   "outputs": [],
   "source": [
    "logo = \"\"\"\n",
    "     _____\n",
    "    |A .  | _____\n",
    "    | /.\\ ||A ^  | _____\n",
    "    |(_._)|| / \\ ||A _  | _____\n",
    "    |  |  || \\ / || ( ) ||A_ _ |\n",
    "    |____V||  .  ||(_'_)||( v )|\n",
    "           |____V||  |  || \\ / |\n",
    "                  |____V||  .  |\n",
    "                         |____V|\n",
    "\"\"\""
   ]
  },
  {
   "cell_type": "code",
   "execution_count": 3,
   "id": "d5bfa033",
   "metadata": {},
   "outputs": [],
   "source": [
    "import random\n",
    "\n",
    "def draw(cards):\n",
    "    return random.choice(cards)"
   ]
  },
  {
   "cell_type": "code",
   "execution_count": 23,
   "id": "e1b2299e",
   "metadata": {},
   "outputs": [],
   "source": [
    "def first_draw(cards, n):\n",
    "    return [[draw(cards)] for _ in range(n)]"
   ]
  },
  {
   "cell_type": "code",
   "execution_count": 25,
   "id": "fcf348fb",
   "metadata": {},
   "outputs": [
    {
     "data": {
      "text/plain": [
       "[[8], [8], [6], [8], [7], [6], [10], [3], [6], [11]]"
      ]
     },
     "execution_count": 25,
     "metadata": {},
     "output_type": "execute_result"
    }
   ],
   "source": [
    "first_draw(cards, 10)"
   ]
  },
  {
   "cell_type": "code",
   "execution_count": 35,
   "id": "c9409a08",
   "metadata": {},
   "outputs": [
    {
     "name": "stdout",
     "output_type": "stream",
     "text": [
      "num_05.00\tnum2_6.000000\n"
     ]
    }
   ],
   "source": [
    "print(\"num_{:05.2f}\\tnum2_{:.6f}\".format(5, 6))"
   ]
  },
  {
   "cell_type": "code",
   "execution_count": 36,
   "id": "c28e58a7",
   "metadata": {},
   "outputs": [],
   "source": [
    "class BlackJack:\n",
    "    def __init__(self, cards, n_players=1):\n",
    "        self.cards = cards\n",
    "        self.players_cards = first_draw(cards, n_players+1)  # House at 0\n",
    "        self.players_ingame = [1]*n_players\n",
    "        self.players_lost = [0]*n_players\n",
    "        self.players_cards[0].append(draw(cards))\n",
    "        self.n_players = n_players\n",
    "        self.house_lost = False\n",
    "        \n",
    "    def player_str(self, cards, house=False):\n",
    "        if house:\n",
    "            rest = \"\".join([\", ?\" for _ in range(len(cards)-1)])\n",
    "            out = f\"{cards[0]}\"+rest\n",
    "        else:\n",
    "            rest = \"\".join([f\", {card}\" for card in cards[1:]])\n",
    "            out = f\"{cards[0]}\"+rest\n",
    "            \n",
    "        return f\"[{out}]\"\n",
    "        \n",
    "    def stats(self, reveal=False):\n",
    "        bs = '\\t'\n",
    "        for i, cards in enumerate(self.players_cards):\n",
    "            house = i == 0\n",
    "            print( f\"{'House' if house else 'Player_%d'%i}:{bs*2 if house else bs}{self.player_str(cards, house=(house and not reveal))}\" )\n",
    "    \n",
    "    def check_player(self, i):\n",
    "        cards = self.players_cards[i+1]\n",
    "        print(cards)\n",
    "        \n",
    "        while sum(cards)>21 and 11 in cards:\n",
    "            cards.remove(11)\n",
    "            cards.append(1)\n",
    "        \n",
    "        if sum(cards)>21:\n",
    "            self.players_lost[i] = 1\n",
    "            self.players_ingame[i] = 0\n",
    "            print(f\"Player_{i+1} lost!\")\n",
    "            return True\n",
    "            \n",
    "        return False\n",
    "            \n",
    "    def withdraw_player(self, i):\n",
    "        self.players_ingame[i] = 0\n",
    "        print(f\"Player_{i+1} is on stand\")\n",
    "    \n",
    "    def loop(self):\n",
    "        \n",
    "        self.stats()\n",
    "        \n",
    "        for i, cards in enumerate(self.players_cards[1:]):\n",
    "            \n",
    "            print()\n",
    "            \n",
    "            if not self.players_ingame[i]:\n",
    "                continue\n",
    "            \n",
    "            while True:\n",
    "                hit = input(f\"Player_{i+1}: Hit? [\\'Y\\' to draw a card / \\'N\\' to stand]: \").upper()\n",
    "                if hit not in ['Y', 'N']:\n",
    "                    print(\"Invalid input\")\n",
    "                    continue\n",
    "                else:\n",
    "                    hit = hit == 'Y'\n",
    "            \n",
    "                if hit:\n",
    "                    cards.append(draw(self.cards))\n",
    "                    if self.check_player(i):\n",
    "                        break\n",
    "                else:\n",
    "                    self.withdraw_player(i)\n",
    "                    break\n",
    "                    \n",
    "    def update_house(self):\n",
    "        house = self.players_cards[0]\n",
    "        \n",
    "        while True:\n",
    "            total = sum(house)\n",
    "            if total < 17:\n",
    "                house.append(draw(self.cards))\n",
    "            else:\n",
    "                break\n",
    "        \n",
    "        self.house_lost = total > 21\n",
    "                   \n",
    "                    \n",
    "    def results(self):\n",
    "\n",
    "        sums = [sum(cards) for cards in self.players_cards]\n",
    "        house = sums[0]\n",
    "        lost_players = [0]*self.n_players\n",
    "\n",
    "        print(f\"House: {house}\")\n",
    "\n",
    "        print(\"\\nLosers:\")\n",
    "        for i, lost in enumerate(self.players_lost):\n",
    "            if (not lost) and (not self.house_lost):\n",
    "                lost = sums[i+1] < house\n",
    "\n",
    "            lost_players[i] = lost\n",
    "            if lost:\n",
    "                print(f\"Player_{i+1} (total={sums[i+1]})\")\n",
    "\n",
    "        print(\"\\nDraws:\")\n",
    "        for i in range(self.n_players):\n",
    "            if (sums[i+1] == house) and not lost_players[i]:\n",
    "                print(f\"Player_{i+1} (total={sums[i+1]})\")\n",
    "\n",
    "        print(\"\\nWinners:\")\n",
    "        for i in range(self.n_players):\n",
    "            if (sums[i+1] > house) and not lost_players[i]:\n",
    "                print(f\"Player_{i+1} (total={sums[i+1]})\")\n",
    "            \n",
    "                \n",
    "    def play(self):\n",
    "        \n",
    "        self.loop()\n",
    "        \n",
    "        self.update_house()\n",
    "        \n",
    "        print(\"\\nResults:\")\n",
    "        self.stats(reveal=True)\n",
    "        \n",
    "        self.results()"
   ]
  },
  {
   "cell_type": "code",
   "execution_count": 37,
   "id": "133dbbe4",
   "metadata": {},
   "outputs": [
    {
     "name": "stdout",
     "output_type": "stream",
     "text": [
      "House:\t\t[7, ?]\n",
      "Player_1:\t[10]\n",
      "Player_2:\t[2]\n",
      "Player_3:\t[5]\n",
      "\n",
      "Player_1: Hit? ['Y' to draw a card / 'N' to stand]: Y\n",
      "[10, 4]\n",
      "Player_1: Hit? ['Y' to draw a card / 'N' to stand]: Y\n",
      "[10, 4, 6]\n",
      "Player_1: Hit? ['Y' to draw a card / 'N' to stand]: n\n",
      "Player_1 is on stand\n",
      "\n",
      "Player_2: Hit? ['Y' to draw a card / 'N' to stand]: .\n",
      "Invalid input\n",
      "Player_2: Hit? ['Y' to draw a card / 'N' to stand]: yf\n",
      "Invalid input\n",
      "Player_2: Hit? ['Y' to draw a card / 'N' to stand]: j\n",
      "Invalid input\n",
      "Player_2: Hit? ['Y' to draw a card / 'N' to stand]: y\n",
      "[2, 3]\n",
      "Player_2: Hit? ['Y' to draw a card / 'N' to stand]: y\n",
      "[2, 3, 3]\n",
      "Player_2: Hit? ['Y' to draw a card / 'N' to stand]: y\n",
      "[2, 3, 3, 5]\n",
      "Player_2: Hit? ['Y' to draw a card / 'N' to stand]: y\n",
      "[2, 3, 3, 5, 11]\n",
      "Player_2: Hit? ['Y' to draw a card / 'N' to stand]: y\n",
      "[2, 3, 3, 5, 1, 5]\n",
      "Player_2: Hit? ['Y' to draw a card / 'N' to stand]: n\n",
      "Player_2 is on stand\n",
      "\n",
      "Player_3: Hit? ['Y' to draw a card / 'N' to stand]: y\n",
      "[5, 5]\n",
      "Player_3: Hit? ['Y' to draw a card / 'N' to stand]: y\n",
      "[5, 5, 6]\n",
      "Player_3: Hit? ['Y' to draw a card / 'N' to stand]: y\n",
      "[5, 5, 6, 10]\n",
      "Player_3 lost!\n",
      "\n",
      "Results:\n",
      "House:\t\t[7, 8, 7]\n",
      "Player_1:\t[10, 4, 6]\n",
      "Player_2:\t[2, 3, 3, 5, 1, 5]\n",
      "Player_3:\t[5, 5, 6, 10]\n",
      "House: 22\n",
      "\n",
      "Losers:\n",
      "Player_3 (total=26)\n",
      "\n",
      "Draws:\n",
      "\n",
      "Winners:\n"
     ]
    }
   ],
   "source": [
    "game = BlackJack(cards,3)\n",
    "game.play()"
   ]
  },
  {
   "cell_type": "code",
   "execution_count": null,
   "id": "1f6cadff",
   "metadata": {},
   "outputs": [],
   "source": []
  }
 ],
 "metadata": {
  "kernelspec": {
   "display_name": "Python 3 (ipykernel)",
   "language": "python",
   "name": "python3"
  },
  "language_info": {
   "codemirror_mode": {
    "name": "ipython",
    "version": 3
   },
   "file_extension": ".py",
   "mimetype": "text/x-python",
   "name": "python",
   "nbconvert_exporter": "python",
   "pygments_lexer": "ipython3",
   "version": "3.7.3"
  }
 },
 "nbformat": 4,
 "nbformat_minor": 5
}
