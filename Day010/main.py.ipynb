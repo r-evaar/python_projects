{
 "cells": [
  {
   "cell_type": "code",
   "execution_count": 2,
   "id": "cfc13db5",
   "metadata": {},
   "outputs": [],
   "source": [
    "def foo(*args, **kw):\n",
    "    \"\"\"\n",
    "    Docstring:\n",
    "    foo is a test function that takes \n",
    "    any number of arguments\n",
    "    \"\"\""
   ]
  },
  {
   "cell_type": "code",
   "execution_count": 3,
   "id": "1aaf1710",
   "metadata": {},
   "outputs": [],
   "source": [
    "foo(5,6)"
   ]
  },
  {
   "cell_type": "code",
   "execution_count": 4,
   "id": "18ad7cf1",
   "metadata": {},
   "outputs": [],
   "source": [
    "foo(\"A\",b=\"C\")"
   ]
  },
  {
   "cell_type": "markdown",
   "id": "92177105",
   "metadata": {},
   "source": [
    "### Calculator"
   ]
  },
  {
   "cell_type": "code",
   "execution_count": 29,
   "id": "17e804a3",
   "metadata": {},
   "outputs": [],
   "source": [
    "operations = {\n",
    "    \"+\": lambda a,b: a+b,\n",
    "    \"-\": lambda a,b: a-b,\n",
    "    \"*\": lambda a,b: a*b,\n",
    "    \"/\": lambda a,b: a/b\n",
    "}"
   ]
  },
  {
   "cell_type": "code",
   "execution_count": 36,
   "id": "a66a24c9",
   "metadata": {},
   "outputs": [],
   "source": [
    "def calculator(buff=None):\n",
    "    if buff==None:\n",
    "        a = float(input(\"Enter num1: \"))\n",
    "    op = input(f\"select an operation {[o for o in operations]}: \")\n",
    "    if buff==None:\n",
    "        b = float(input(\"Enter num2: \"))\n",
    "        res = operations[op](a,b)\n",
    "    else:\n",
    "        num = float(input(\"Enter num: \"))\n",
    "        res = operations[op](buff,num)\n",
    "    print(f\"Result = {res}\")\n",
    "    return res"
   ]
  },
  {
   "cell_type": "code",
   "execution_count": 40,
   "id": "1cc942d4",
   "metadata": {},
   "outputs": [
    {
     "name": "stdout",
     "output_type": "stream",
     "text": [
      "Enter num1: 5.2\n",
      "select an operation ['+', '-', '*', '/']: +\n",
      "Enter num2: 1.8\n",
      "Result = 7.0\n",
      "[Continue (c) | Quit (q) | Clear (e)]: c\n",
      "select an operation ['+', '-', '*', '/']: *\n",
      "Enter num: 3\n",
      "Result = 21.0\n",
      "[Continue (c) | Quit (q) | Clear (e)]: c\n",
      "select an operation ['+', '-', '*', '/']: -\n",
      "Enter num: 1\n",
      "Result = 20.0\n",
      "[Continue (c) | Quit (q) | Clear (e)]: e\n",
      "Enter num1: 2\n",
      "select an operation ['+', '-', '*', '/']: /\n",
      "Enter num2: 1.99\n",
      "Result = 1.0050251256281406\n",
      "[Continue (c) | Quit (q) | Clear (e)]: q\n"
     ]
    }
   ],
   "source": [
    "buff = None\n",
    "q,c,e = range(3)\n",
    "while True:\n",
    "    buff = calculator(buff)\n",
    "    while True:\n",
    "        _next = input(\"[Continue (c) | Quit (q) | Clear (e)]: \")[0].upper()\n",
    "        _next = c if _next=='C' else q if _next=='Q'else e if _next=='E' else -1\n",
    "        if _next is not -1:\n",
    "            break\n",
    "    if _next==q:\n",
    "        break\n",
    "    elif _next==c:\n",
    "        pass\n",
    "    elif _next==e:\n",
    "        buff=None"
   ]
  },
  {
   "cell_type": "code",
   "execution_count": null,
   "id": "40d1be67",
   "metadata": {},
   "outputs": [],
   "source": []
  }
 ],
 "metadata": {
  "kernelspec": {
   "display_name": "Python 3 (ipykernel)",
   "language": "python",
   "name": "python3"
  },
  "language_info": {
   "codemirror_mode": {
    "name": "ipython",
    "version": 3
   },
   "file_extension": ".py",
   "mimetype": "text/x-python",
   "name": "python",
   "nbconvert_exporter": "python",
   "pygments_lexer": "ipython3",
   "version": "3.7.3"
  }
 },
 "nbformat": 4,
 "nbformat_minor": 5
}
