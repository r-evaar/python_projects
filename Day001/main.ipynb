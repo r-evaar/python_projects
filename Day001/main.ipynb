{
 "cells": [
  {
   "cell_type": "code",
   "execution_count": 1,
   "id": "1c090236",
   "metadata": {},
   "outputs": [
    {
     "name": "stdout",
     "output_type": "stream",
     "text": [
      "Hello world\n",
      "Hello world\n",
      "Hello world\n",
      "\n"
     ]
    }
   ],
   "source": [
    "print(\"Hello world\\n\"*3)"
   ]
  },
  {
   "cell_type": "code",
   "execution_count": 4,
   "id": "ba4b5876",
   "metadata": {},
   "outputs": [
    {
     "ename": "SyntaxError",
     "evalue": "unexpected EOF while parsing (3113837076.py, line 4)",
     "output_type": "error",
     "traceback": [
      "\u001b[1;36m  File \u001b[1;32m\"C:\\Users\\Evaar\\AppData\\Local\\Temp\\ipykernel_9100\\3113837076.py\"\u001b[1;36m, line \u001b[1;32m4\u001b[0m\n\u001b[1;33m    \u001b[0m\n\u001b[1;37m    ^\u001b[0m\n\u001b[1;31mSyntaxError\u001b[0m\u001b[1;31m:\u001b[0m unexpected EOF while parsing\n"
     ]
    }
   ],
   "source": [
    "# SyntaxError: unexpected EOF while parsing:\n",
    "\n",
    "for i in range(10):\n",
    "    "
   ]
  },
  {
   "cell_type": "code",
   "execution_count": 5,
   "id": "69bd68ea",
   "metadata": {},
   "outputs": [
    {
     "ename": "SyntaxError",
     "evalue": "unexpected EOF while parsing (537761014.py, line 1)",
     "output_type": "error",
     "traceback": [
      "\u001b[1;36m  File \u001b[1;32m\"C:\\Users\\Evaar\\AppData\\Local\\Temp\\ipykernel_9100\\537761014.py\"\u001b[1;36m, line \u001b[1;32m1\u001b[0m\n\u001b[1;33m    print(\"A\"\u001b[0m\n\u001b[1;37m             ^\u001b[0m\n\u001b[1;31mSyntaxError\u001b[0m\u001b[1;31m:\u001b[0m unexpected EOF while parsing\n"
     ]
    }
   ],
   "source": [
    "print(\"A\""
   ]
  },
  {
   "cell_type": "markdown",
   "id": "f2359819",
   "metadata": {},
   "source": [
    "### The `input` Function"
   ]
  },
  {
   "cell_type": "code",
   "execution_count": 6,
   "id": "6a7c32e4",
   "metadata": {},
   "outputs": [
    {
     "name": "stdout",
     "output_type": "stream",
     "text": [
      "What is your fucking name? Evaar\n",
      "Hi Evaar!\n"
     ]
    }
   ],
   "source": [
    "my_fucking_name = input(\"What is your fucking name? \")\n",
    "print(f\"Hi {my_fucking_name}!\")"
   ]
  },
  {
   "cell_type": "code",
   "execution_count": 11,
   "id": "5449b2fa",
   "metadata": {},
   "outputs": [
    {
     "name": "stdout",
     "output_type": "stream",
     "text": [
      "What is your name? Evaar\n",
      "Hi Evaar!\n"
     ]
    }
   ],
   "source": [
    "print(f\"Hi {input('What is your name? ')}!\")"
   ]
  },
  {
   "cell_type": "code",
   "execution_count": 12,
   "id": "1106a66b",
   "metadata": {},
   "outputs": [
    {
     "name": "stdout",
     "output_type": "stream",
     "text": [
      "What is your name? Evaar\n",
      "Your name has 5 characters\n"
     ]
    }
   ],
   "source": [
    "print(f\"Your name has {len(input('What is your name? '))} characters\")"
   ]
  },
  {
   "cell_type": "markdown",
   "id": "6e63b043",
   "metadata": {},
   "source": [
    "### Day 1 Project"
   ]
  },
  {
   "cell_type": "code",
   "execution_count": 14,
   "id": "39cdac95",
   "metadata": {},
   "outputs": [
    {
     "name": "stdout",
     "output_type": "stream",
     "text": [
      "Welcome to the Band Name Generator\n",
      "What's the name of the city you grew up in? Alabama\n",
      "What's you pet's name? Kora\n",
      "Your band name could be Alabama Kora\n"
     ]
    }
   ],
   "source": [
    "print(\"Welcome to the Band Name Generator\")\n",
    "city = input(\"What's the name of the city you grew up in? \")\n",
    "pet = input(\"What's you pet's name? \")\n",
    "print(f\"Your band name could be {city} {pet}\")"
   ]
  },
  {
   "cell_type": "code",
   "execution_count": null,
   "id": "7b186145",
   "metadata": {},
   "outputs": [],
   "source": []
  }
 ],
 "metadata": {
  "kernelspec": {
   "display_name": "Python 3 (ipykernel)",
   "language": "python",
   "name": "python3"
  },
  "language_info": {
   "codemirror_mode": {
    "name": "ipython",
    "version": 3
   },
   "file_extension": ".py",
   "mimetype": "text/x-python",
   "name": "python",
   "nbconvert_exporter": "python",
   "pygments_lexer": "ipython3",
   "version": "3.7.3"
  }
 },
 "nbformat": 4,
 "nbformat_minor": 5
}
