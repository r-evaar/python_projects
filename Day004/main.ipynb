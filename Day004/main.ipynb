{
 "cells": [
  {
   "cell_type": "markdown",
   "id": "2d00a495",
   "metadata": {},
   "source": [
    "### Pseudo Random Generator in Python: Mersenne Twister\n",
    "\n",
    "#### Link=https://en.wikipedia.org/wiki/Mersenne_Twister "
   ]
  },
  {
   "cell_type": "code",
   "execution_count": 1,
   "id": "feebe9eb",
   "metadata": {},
   "outputs": [],
   "source": [
    "import random"
   ]
  },
  {
   "cell_type": "code",
   "execution_count": 2,
   "id": "58073449",
   "metadata": {},
   "outputs": [
    {
     "data": {
      "text/plain": [
       "9"
      ]
     },
     "execution_count": 2,
     "metadata": {},
     "output_type": "execute_result"
    }
   ],
   "source": [
    "random_integer = random.randint(1,10)  # End inclusive\n",
    "random_integer"
   ]
  },
  {
   "cell_type": "code",
   "execution_count": 3,
   "id": "e7fd0724",
   "metadata": {},
   "outputs": [
    {
     "name": "stdout",
     "output_type": "stream",
     "text": [
      "3.14159246\n"
     ]
    }
   ],
   "source": [
    "import my_module\n",
    "\n",
    "print(my_module.pi)"
   ]
  },
  {
   "cell_type": "code",
   "execution_count": 4,
   "id": "b0559818-8a53-40ce-9860-d85d38bf22e8",
   "metadata": {},
   "outputs": [
    {
     "name": "stdout",
     "output_type": "stream",
     "text": [
      "5\n"
     ]
    }
   ],
   "source": [
    "import importlib\n",
    "importlib.reload(my_module) \n",
    "print(my_module.some_number)"
   ]
  },
  {
   "cell_type": "code",
   "execution_count": 5,
   "id": "3e466597-f1d3-4858-8052-68d93d3f05be",
   "metadata": {},
   "outputs": [
    {
     "name": "stdout",
     "output_type": "stream",
     "text": [
      "0.49439339843810015\n"
     ]
    }
   ],
   "source": [
    "random_float = random.random()  # [0.0,1.0)\n",
    "print(random_float)"
   ]
  },
  {
   "cell_type": "code",
   "execution_count": 6,
   "id": "a70cd2de",
   "metadata": {},
   "outputs": [
    {
     "name": "stdout",
     "output_type": "stream",
     "text": [
      "[1.70, 1.76, 3.40, 0.33, 1.72, 2.03, 2.63, 0.58, 2.16, 3.66, 4.90, 4.60, 4.14, 3.18, 3.83, 4.85, 1.62, 1.84, 4.83, 1.74]\n"
     ]
    }
   ],
   "source": [
    "m = 20\n",
    "print(\"[\", end='')\n",
    "for i in range(m):\n",
    "    print(\"%.2f\"%(random.random()*5), end=(', ' if i<(m-1) else ''))\n",
    "print(\"]\")"
   ]
  },
  {
   "cell_type": "code",
   "execution_count": 7,
   "id": "91bc0aeb",
   "metadata": {},
   "outputs": [
    {
     "name": "stdout",
     "output_type": "stream",
     "text": [
      "Tail\n",
      "Head\n",
      "Tail\n",
      "Tail\n",
      "Head\n",
      "Head\n",
      "Head\n",
      "Head\n",
      "Tail\n",
      "Tail\n"
     ]
    }
   ],
   "source": [
    "def toss_a_coin_to_your_witcher(m):\n",
    "    for i in range(m):\n",
    "        head = random.randint(0,1)\n",
    "        print('Head' if head else 'Tail')\n",
    "        \n",
    "toss_a_coin_to_your_witcher(10)"
   ]
  },
  {
   "cell_type": "code",
   "execution_count": 8,
   "id": "0917192f",
   "metadata": {},
   "outputs": [
    {
     "data": {
      "text/plain": [
       "['A', 'B', 'C', 'D', 'E', 'F', 'G']"
      ]
     },
     "execution_count": 8,
     "metadata": {},
     "output_type": "execute_result"
    }
   ],
   "source": [
    "l = ['A','B','C']\n",
    "l.append('D')\n",
    "l.extend(['E','F','G'])\n",
    "l"
   ]
  },
  {
   "cell_type": "code",
   "execution_count": 9,
   "id": "4dfb7c4f",
   "metadata": {},
   "outputs": [
    {
     "data": {
      "text/plain": [
       "['A', 'B', 'C', 'D', 'E', 'F', 'G', ['H', 'I']]"
      ]
     },
     "execution_count": 9,
     "metadata": {},
     "output_type": "execute_result"
    }
   ],
   "source": [
    "l.append(['H', 'I'])  # Bad\n",
    "l"
   ]
  },
  {
   "cell_type": "code",
   "execution_count": 10,
   "id": "815d5dda",
   "metadata": {},
   "outputs": [
    {
     "data": {
      "text/plain": [
       "['A', 'B', 'C', 'D', 'E', 'F', 'G']"
      ]
     },
     "execution_count": 10,
     "metadata": {},
     "output_type": "execute_result"
    }
   ],
   "source": [
    "l.pop(-1)\n",
    "l"
   ]
  },
  {
   "cell_type": "code",
   "execution_count": 11,
   "id": "f1c21044",
   "metadata": {},
   "outputs": [
    {
     "data": {
      "text/plain": [
       "['Z', 'A', 'B', 'C', 'D', 'E', 'F', 'G']"
      ]
     },
     "execution_count": 11,
     "metadata": {},
     "output_type": "execute_result"
    }
   ],
   "source": [
    "l.insert(0, 'Z')\n",
    "l"
   ]
  },
  {
   "cell_type": "markdown",
   "id": "9ddb6a9a",
   "metadata": {},
   "source": [
    "### Banker Roulettle"
   ]
  },
  {
   "cell_type": "code",
   "execution_count": 12,
   "id": "67810c72",
   "metadata": {},
   "outputs": [
    {
     "name": "stdout",
     "output_type": "stream",
     "text": [
      "Enter everyone's name separated by a comma:\n",
      "Evaar, Maria Gomz, Racherd, Mr. Travor\n",
      "Evaar will pay tonight\n"
     ]
    }
   ],
   "source": [
    "names = input(\"Enter everyone's name separated by a comma:\\n\").split(', ')\n",
    "print(f\"{names[random.randint(0,len(names)-1)]} will pay tonight\")"
   ]
  },
  {
   "cell_type": "code",
   "execution_count": 13,
   "id": "546c2734",
   "metadata": {},
   "outputs": [
    {
     "name": "stdout",
     "output_type": "stream",
     "text": [
      "Enter everyone's name separated by a comma:\n",
      "Evaar, Maria Gomz, Racherd, Mr. Travor\n",
      "Maria Gomz will pay tonight\n"
     ]
    }
   ],
   "source": [
    "names = input(\"Enter everyone's name separated by a comma:\\n\").split(', ')\n",
    "print(f\"{random.choice(names)} will pay tonight\")  # random.choice randomly returns an item from a sequence"
   ]
  },
  {
   "cell_type": "markdown",
   "id": "5ecc3362",
   "metadata": {},
   "source": [
    "### Find the Treasure"
   ]
  },
  {
   "cell_type": "code",
   "execution_count": 15,
   "id": "72fda31e",
   "metadata": {},
   "outputs": [
    {
     "name": "stdout",
     "output_type": "stream",
     "text": [
      "['🎁', '🎁', '🎁']\n",
      "['🎁', '🎁', '🎁']\n",
      "['🎁', '🎁', '🎁']\n",
      "Open a box (row,col): 3,1\n",
      "['🎁', '🎁', '🎁']\n",
      "['🎁', '🎁', '🎁']\n",
      "['💎', '🎁', '🎁']\n"
     ]
    }
   ],
   "source": [
    "grid = [\n",
    "    [\"🎁\",\"🎁\",\"🎁\"],\n",
    "    [\"🎁\",\"🎁\",\"🎁\"],\n",
    "    [\"🎁\",\"🎁\",\"🎁\"]\n",
    "]\n",
    "def print_grid(grid):\n",
    "    for row in grid:\n",
    "        print(row)\n",
    "    \n",
    "print_grid(grid)\n",
    "selection = input(\"Open a box (row,col): \").split(',')\n",
    "row = int(selection[0])-1\n",
    "col = int(selection[1])-1\n",
    "if (row,col)==(2,0):\n",
    "    unvailed = \"💎\"\n",
    "else:\n",
    "    unvailed = \"🙁\"\n",
    "grid[row][col]=unvailed\n",
    "print_grid(grid)"
   ]
  },
  {
   "cell_type": "markdown",
   "id": "b2c42de4",
   "metadata": {},
   "source": [
    "### Rock Paper Scissors"
   ]
  },
  {
   "cell_type": "code",
   "execution_count": 16,
   "id": "67196f01",
   "metadata": {},
   "outputs": [],
   "source": [
    "rock=\"\"\"\n",
    "    _______\n",
    "---'   ____)\n",
    "      (_____)\n",
    "      (_____)\n",
    "      (____)\n",
    "---.__(___)\n",
    "\"\"\"\n",
    "\n",
    "paper=\"\"\"\n",
    "     _______\n",
    "---'    ____)____\n",
    "           ______)\n",
    "          _______)\n",
    "         _______)\n",
    "---.__________)\n",
    "\"\"\"\n",
    "\n",
    "scissors=\"\"\"\n",
    "    _______\n",
    "---'   ____)____\n",
    "          ______)\n",
    "       __________)\n",
    "      (____)\n",
    "---.__(___)\n",
    "\"\"\""
   ]
  },
  {
   "cell_type": "code",
   "execution_count": 41,
   "id": "4f9b091c",
   "metadata": {},
   "outputs": [],
   "source": [
    "def play(num):\n",
    "    print(f\"\\n{rock if num==0 else paper if num==1 else scissors if num==2 else ''}\")\n",
    "    return 0 <= num <= 2"
   ]
  },
  {
   "cell_type": "code",
   "execution_count": 46,
   "id": "37b603bc",
   "metadata": {},
   "outputs": [
    {
     "name": "stdout",
     "output_type": "stream",
     "text": [
      "Enter 0 for rock, 1 for paper, or 2 for scissors: 2\n",
      "\n",
      "Computer played: \n",
      "\n",
      "\n",
      "    _______\n",
      "---'   ____)____\n",
      "          ______)\n",
      "       __________)\n",
      "      (____)\n",
      "---.__(___)\n",
      "\n",
      "\n",
      "You played: \n",
      "\n",
      "\n",
      "    _______\n",
      "---'   ____)____\n",
      "          ______)\n",
      "       __________)\n",
      "      (____)\n",
      "---.__(___)\n",
      "\n",
      "Draw!\n"
     ]
    }
   ],
   "source": [
    "selection = int(input(\"Enter 0 for rock, 1 for paper, or 2 for scissors: \"))\n",
    "generated = random.randint(0,2)\n",
    "\n",
    "print(\"\\nComputer played: \")\n",
    "play(generated)\n",
    "print(\"\\nYou played: \")\n",
    "passed = play(selection)\n",
    "\n",
    "if not passed: \n",
    "    raise Exception(\"Invalid Input\")\n",
    "\n",
    "winning = [(0,2), (1,0), (2,1)]\n",
    "won = True if (selection,generated) in winning else False\n",
    "draw = True if selection==generated else False\n",
    "print(\"You won!\" if won else \"Draw!\" if draw else \"You lost!\")"
   ]
  },
  {
   "cell_type": "code",
   "execution_count": null,
   "id": "8560a1e0",
   "metadata": {},
   "outputs": [],
   "source": []
  }
 ],
 "metadata": {
  "kernelspec": {
   "display_name": "Python 3 (ipykernel)",
   "language": "python",
   "name": "python3"
  },
  "language_info": {
   "codemirror_mode": {
    "name": "ipython",
    "version": 3
   },
   "file_extension": ".py",
   "mimetype": "text/x-python",
   "name": "python",
   "nbconvert_exporter": "python",
   "pygments_lexer": "ipython3",
   "version": "3.7.3"
  }
 },
 "nbformat": 4,
 "nbformat_minor": 5
}
