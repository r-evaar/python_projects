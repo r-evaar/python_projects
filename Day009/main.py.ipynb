{
 "cells": [
  {
   "cell_type": "code",
   "execution_count": 4,
   "id": "c97c0baa",
   "metadata": {},
   "outputs": [
    {
     "data": {
      "text/plain": [
       "{'Item1': [1, 2, 3], 'Item2': 'A', 'Item3': 0.2}"
      ]
     },
     "execution_count": 4,
     "metadata": {},
     "output_type": "execute_result"
    }
   ],
   "source": [
    "dic = {\n",
    "    \"Item1\": [1,2,3],\n",
    "    \"Item2\": 'A'\n",
    "}\n",
    "\n",
    "dic['Item3'] = 0.2\n",
    "dic"
   ]
  },
  {
   "cell_type": "code",
   "execution_count": 7,
   "id": "7465a54c",
   "metadata": {},
   "outputs": [
    {
     "name": "stdout",
     "output_type": "stream",
     "text": [
      "-1.0\n"
     ]
    }
   ],
   "source": [
    "dic1 = {\"K1\": -1.0}\n",
    "dic2 = {\"K1\":1.0, \"K2\":dic1}\n",
    "print(dic2['K2']['K1'])"
   ]
  },
  {
   "cell_type": "code",
   "execution_count": 16,
   "id": "de1e1e13",
   "metadata": {},
   "outputs": [
    {
     "name": "stdout",
     "output_type": "stream",
     "text": [
      "{'A': 1, 'B': 2, 'C': 3}\n",
      "3\n"
     ]
    }
   ],
   "source": [
    "dic1 = {\"A\":1, \"B\":2}\n",
    "dic2 = {\"A\":1, \"B\":2, \"C\":3}\n",
    "\n",
    "dic2 = dic1[\"C\"] = 3\n",
    "print(dic1)\n",
    "print(dic2)"
   ]
  },
  {
   "cell_type": "code",
   "execution_count": 18,
   "id": "d51ccfe7",
   "metadata": {},
   "outputs": [
    {
     "name": "stdout",
     "output_type": "stream",
     "text": [
      "A\n",
      "B\n",
      "C\n"
     ]
    }
   ],
   "source": [
    "for key in dic1:\n",
    "    print(key)"
   ]
  },
  {
   "cell_type": "code",
   "execution_count": 24,
   "id": "06d5350d",
   "metadata": {},
   "outputs": [
    {
     "name": "stdout",
     "output_type": "stream",
     "text": [
      "1\n",
      "2\n",
      "3\n"
     ]
    }
   ],
   "source": [
    "for val in dic1.values():\n",
    "    print(val)"
   ]
  },
  {
   "cell_type": "code",
   "execution_count": 28,
   "id": "0e29339d",
   "metadata": {},
   "outputs": [
    {
     "name": "stdout",
     "output_type": "stream",
     "text": [
      "A: 1\n",
      "B: 2\n",
      "C: 3\n"
     ]
    }
   ],
   "source": [
    "for key, val in dic1.items():\n",
    "    print(f\"{key}: {val}\")"
   ]
  },
  {
   "cell_type": "code",
   "execution_count": 30,
   "id": "b2a6d0bf",
   "metadata": {},
   "outputs": [
    {
     "data": {
      "text/plain": [
       "dict_items([('A', 1), ('B', 2), ('C', 3)])"
      ]
     },
     "execution_count": 30,
     "metadata": {},
     "output_type": "execute_result"
    }
   ],
   "source": [
    "dic1.items()  # Iterator of tuples"
   ]
  },
  {
   "cell_type": "code",
   "execution_count": 31,
   "id": "b425b74f",
   "metadata": {},
   "outputs": [
    {
     "name": "stdout",
     "output_type": "stream",
     "text": [
      "1.0-2.0-3.0\n",
      "1.1-2.1-3.1\n",
      "1.2-2.2-3.2\n"
     ]
    }
   ],
   "source": [
    "arr = [(1.0,2.0,3.0), (1.1,2.1,3.1), (1.2,2.2,3.2)]\n",
    "for a, b, c in arr:\n",
    "    print(f\"{a}-{b}-{c}\")"
   ]
  },
  {
   "cell_type": "code",
   "execution_count": null,
   "id": "12a8ef21",
   "metadata": {},
   "outputs": [],
   "source": []
  }
 ],
 "metadata": {
  "kernelspec": {
   "display_name": "Python 3 (ipykernel)",
   "language": "python",
   "name": "python3"
  },
  "language_info": {
   "codemirror_mode": {
    "name": "ipython",
    "version": 3
   },
   "file_extension": ".py",
   "mimetype": "text/x-python",
   "name": "python",
   "nbconvert_exporter": "python",
   "pygments_lexer": "ipython3",
   "version": "3.7.3"
  }
 },
 "nbformat": 4,
 "nbformat_minor": 5
}
