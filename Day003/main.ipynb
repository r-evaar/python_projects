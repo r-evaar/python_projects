{
 "cells": [
  {
   "cell_type": "markdown",
   "id": "9f7d4293",
   "metadata": {},
   "source": [
    "#### For UML Diagrams,  Visit https://app.diagrams.net/ "
   ]
  },
  {
   "cell_type": "code",
   "execution_count": 11,
   "id": "1a107d6f",
   "metadata": {},
   "outputs": [],
   "source": [
    "'''\n",
    "Leap Year:\n",
    "    Every year that is evenly divisible by 4\n",
    "        except every year that is evenly divisible by 100\n",
    "            unless the year is also evenly divisble by 400\n",
    "'''\n",
    "\n",
    "def leap_check(yea):\n",
    "\n",
    "    leap = False\n",
    "    if year%4==0:\n",
    "        if year%100==0:\n",
    "            leap = year%400==0\n",
    "        else:\n",
    "            leap = True\n",
    "\n",
    "    print(f\"{year} is{'' if leap else ' not'} a leap year\")"
   ]
  },
  {
   "cell_type": "code",
   "execution_count": 12,
   "id": "8f1d3620",
   "metadata": {},
   "outputs": [],
   "source": [
    "import numpy as np"
   ]
  },
  {
   "cell_type": "code",
   "execution_count": 14,
   "id": "5774593e",
   "metadata": {},
   "outputs": [
    {
     "name": "stdout",
     "output_type": "stream",
     "text": [
      "1995 is not a leap year\n",
      "1996 is a leap year\n",
      "1997 is not a leap year\n",
      "1998 is not a leap year\n",
      "1999 is not a leap year\n",
      "2000 is a leap year\n",
      "2001 is not a leap year\n",
      "2002 is not a leap year\n",
      "2003 is not a leap year\n",
      "2004 is a leap year\n",
      "2005 is not a leap year\n",
      "2006 is not a leap year\n",
      "2007 is not a leap year\n",
      "2008 is a leap year\n",
      "2009 is not a leap year\n",
      "2010 is not a leap year\n",
      "2011 is not a leap year\n",
      "2012 is a leap year\n",
      "2013 is not a leap year\n",
      "2014 is not a leap year\n",
      "2015 is not a leap year\n",
      "2016 is a leap year\n",
      "2017 is not a leap year\n",
      "2018 is not a leap year\n",
      "2019 is not a leap year\n",
      "2020 is a leap year\n",
      "2021 is not a leap year\n",
      "2022 is not a leap year\n"
     ]
    }
   ],
   "source": [
    "for year in np.arange(1995, 2023):\n",
    "    leap_check(year)"
   ]
  },
  {
   "cell_type": "code",
   "execution_count": 50,
   "id": "ca1ee551",
   "metadata": {},
   "outputs": [],
   "source": [
    "def per_letter_counts(phrase, target):\n",
    "    per_letter_counts = []\n",
    "    phrase = phrase.upper()\n",
    "    for letter in target.upper():\n",
    "        per_letter_counts.append(phrase.count(letter))\n",
    "    return per_letter_counts"
   ]
  },
  {
   "cell_type": "code",
   "execution_count": 51,
   "id": "6a9dc69b",
   "metadata": {},
   "outputs": [],
   "source": [
    "def love_calc(name1, name2):\n",
    "    names = name1+name2\n",
    "    d1 = str(sum(per_letter_counts(names, 'True')))\n",
    "    d0 = str(sum(per_letter_counts(names, 'Love')))\n",
    "    print(f\"{name1} and {name2} are {d1+d0}% compatible\")"
   ]
  },
  {
   "cell_type": "code",
   "execution_count": 52,
   "id": "2eef5b0e",
   "metadata": {},
   "outputs": [
    {
     "name": "stdout",
     "output_type": "stream",
     "text": [
      "Arianna Rebolini and Channing Tatum are 63% compatible\n"
     ]
    }
   ],
   "source": [
    "love_calc('Arianna Rebolini', 'Channing Tatum')"
   ]
  },
  {
   "cell_type": "markdown",
   "id": "4a334e0b",
   "metadata": {},
   "source": [
    "### ASCII ART\n",
    "### ascii.co.uk/art"
   ]
  },
  {
   "cell_type": "code",
   "execution_count": 53,
   "id": "710834ac",
   "metadata": {},
   "outputs": [],
   "source": [
    "def treasure():\n",
    "    return '''\n",
    "    *******************************************************************************\n",
    "              |                   |                  |                     |\n",
    "     _________|________________.=\"\"_;=.______________|_____________________|_______\n",
    "    |                   |  ,-\"_,=\"\"     `\"=.|                  |\n",
    "    |___________________|__\"=._o`\"-._        `\"=.______________|___________________\n",
    "              |                `\"=._o`\"=._      _`\"=._                     |\n",
    "     _________|_____________________:=._o \"=._.\"_.-=\"'\"=.__________________|_______\n",
    "    |                   |    __.--\" , ; `\"=._o.\" ,-\"\"\"-._ \".   |\n",
    "    |___________________|_._\"  ,. .` ` `` ,  `\"-._\"-._   \". '__|___________________\n",
    "              |           |o`\"=._` , \"` `; .\". ,  \"-._\"-._; ;              |\n",
    "     _________|___________| ;`-.o`\"=._; .\" ` '`.\"\\` . \"-._ /_______________|_______\n",
    "    |                   | |o;    `\"-.o`\"=._``  '` \" ,__.--o;   |\n",
    "    |___________________|_| ;     (#) `-.o `\"=.`_.--\"_o.-; ;___|___________________\n",
    "    ____/______/______/___|o;._    \"      `\".o|o_.--\"    ;o;____/______/______/____\n",
    "    /______/______/______/_\"=._o--._        ; | ;        ; ;/______/______/______/_\n",
    "    ____/______/______/______/__\"=._o--._   ;o|o;     _._;o;____/______/______/____\n",
    "    /______/______/______/______/____\"=._o._; | ;_.--\"o.--\"_/______/______/______/_\n",
    "    ____/______/______/______/______/_____\"=.o|o_.--\"\"___/______/______/______/____\n",
    "    /______/______/______/______/______/______/______/______/______/______/______/\n",
    "    *******************************************************************************\n",
    "    '''"
   ]
  },
  {
   "cell_type": "code",
   "execution_count": 73,
   "id": "2493e6d0",
   "metadata": {},
   "outputs": [],
   "source": [
    "def play():\n",
    "    print(\"Welcome to the treasure island.\\n\" \\\n",
    "        +\"Your mission is to find the treasure.\")\n",
    "    \n",
    "    option = input(\"\\n\\nYou are in the dungeon tunnel.\\n\" \\\n",
    "                 +\"You have two paths; left and right. Choose one: \").upper()\n",
    "    if option=='RIGHT': print(\"You fell into a trap!\"); return 0\n",
    "    elif option=='LEFT': pass \n",
    "    else: return -1\n",
    "    \n",
    "    option = input(\"\\n\\nYou're almost of the dungeon.\\n\" \\\n",
    "                 +\"A pool of water is between you and the exist, swim or wait? \").upper()\n",
    "    if option=='SWIM': print(\"You've been eaten by an alligator!\"); return 0\n",
    "    elif option=='WAIT': pass \n",
    "    else: return -1\n",
    "    \n",
    "    option = input(\"\\n\\nOooh! You've discovered a secert exist.\\n\" \\\n",
    "                 +\"You found two chests; black and white. Which one you open? \").upper()\n",
    "    if option=='BLACK': print(\"A snake! Run! fas.. X0\"); return 0\n",
    "    elif option=='WHITE': pass \n",
    "    else: return -1\n",
    "    \n",
    "    return 1"
   ]
  },
  {
   "cell_type": "code",
   "execution_count": 77,
   "id": "2b833414",
   "metadata": {},
   "outputs": [
    {
     "name": "stdout",
     "output_type": "stream",
     "text": [
      "Welcome to the treasure island.\n",
      "Your mission is to find the treasure.\n",
      "\n",
      "\n",
      "You are in the dungeon tunnel.\n",
      "You have two paths; left and right. Choose one: left\n",
      "\n",
      "\n",
      "You're almost of the dungeon.\n",
      "A pool of water is between you and the exist, swim or wait? wait\n",
      "\n",
      "\n",
      "Oooh! You've discovered a secert exist.\n",
      "You found two chests; black and white. Which one you open? white\n",
      "You found the treature!\n",
      "\n",
      "    *******************************************************************************\n",
      "              |                   |                  |                     |\n",
      "     _________|________________.=\"\"_;=.______________|_____________________|_______\n",
      "    |                   |  ,-\"_,=\"\"     `\"=.|                  |\n",
      "    |___________________|__\"=._o`\"-._        `\"=.______________|___________________\n",
      "              |                `\"=._o`\"=._      _`\"=._                     |\n",
      "     _________|_____________________:=._o \"=._.\"_.-=\"'\"=.__________________|_______\n",
      "    |                   |    __.--\" , ; `\"=._o.\" ,-\"\"\"-._ \".   |\n",
      "    |___________________|_._\"  ,. .` ` `` ,  `\"-._\"-._   \". '__|___________________\n",
      "              |           |o`\"=._` , \"` `; .\". ,  \"-._\"-._; ;              |\n",
      "     _________|___________| ;`-.o`\"=._; .\" ` '`.\"\\` . \"-._ /_______________|_______\n",
      "    |                   | |o;    `\"-.o`\"=._``  '` \" ,__.--o;   |\n",
      "    |___________________|_| ;     (#) `-.o `\"=.`_.--\"_o.-; ;___|___________________\n",
      "    ____/______/______/___|o;._    \"      `\".o|o_.--\"    ;o;____/______/______/____\n",
      "    /______/______/______/_\"=._o--._        ; | ;        ; ;/______/______/______/_\n",
      "    ____/______/______/______/__\"=._o--._   ;o|o;     _._;o;____/______/______/____\n",
      "    /______/______/______/______/____\"=._o._; | ;_.--\"o.--\"_/______/______/______/_\n",
      "    ____/______/______/______/______/_____\"=.o|o_.--\"\"___/______/______/______/____\n",
      "    /______/______/______/______/______/______/______/______/______/______/______/\n",
      "    *******************************************************************************\n",
      "    \n"
     ]
    }
   ],
   "source": [
    "status = play()\n",
    "if status == 1:\n",
    "    print('You found the treature!')\n",
    "    print(treasure())\n",
    "elif status == 0:\n",
    "    print('Game Over!')\n",
    "else:\n",
    "    print('Invalid Input. Game crashed!')"
   ]
  },
  {
   "cell_type": "code",
   "execution_count": null,
   "id": "41d65e1f",
   "metadata": {},
   "outputs": [],
   "source": []
  }
 ],
 "metadata": {
  "kernelspec": {
   "display_name": "Python 3 (ipykernel)",
   "language": "python",
   "name": "python3"
  },
  "language_info": {
   "codemirror_mode": {
    "name": "ipython",
    "version": 3
   },
   "file_extension": ".py",
   "mimetype": "text/x-python",
   "name": "python",
   "nbconvert_exporter": "python",
   "pygments_lexer": "ipython3",
   "version": "3.7.3"
  }
 },
 "nbformat": 4,
 "nbformat_minor": 5
}
