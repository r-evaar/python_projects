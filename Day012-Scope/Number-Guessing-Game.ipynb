{
 "cells": [
  {
   "cell_type": "code",
   "execution_count": 1,
   "id": "b15b42d2",
   "metadata": {},
   "outputs": [],
   "source": [
    "LOGO = '''\n",
    "                                                                    )                                                 \n",
    " (                                     *   )      )              ( /(                      )                          \n",
    " )\\ )       (      (                 ` )  /(   ( /(     (        )\\())    (       )     ( /(     (    (               \n",
    "(()/(      ))\\    ))\\   (    (        ( )(_))  )\\())   ))\\      ((_)\\    ))\\     (      )\\())   ))\\   )(         __   \n",
    " /(_))_   /((_)  /((_)  )\\   )\\      (_(_())  ((_)\\   /((_)      _((_)  /((_)    )\\  ' ((_)\\   /((_) (()\\     _  \\ \\  \n",
    "(_)) __| (_))(  (_))   ((_) ((_)     |_   _|  | |(_) (_))       | \\| | (_))(   _((_))  | |(_) (_))    ((_)   (_)  | | \n",
    "  | (_ | | || | / -_)  (_-< (_-<       | |    | ' \\  / -_)      | .` | | || | | '  \\() | '_ \\ / -_)  | '_|    _   | | \n",
    "   \\___|  \\_,_| \\___|  /__/ /__/       |_|    |_||_| \\___|      |_|\\_|  \\_,_| |_|_|_|  |_.__/ \\___|  |_|     (_) /_/  \n",
    "                                                                                                                      \n",
    "'''\n",
    "PROMPT = '''\n",
    "Welcome to the Number Guessing Game!\n",
    "I'm thinking of a number between 1 and 100.\n",
    "'''\n",
    "OPTIONS = ['easy', 'medium', 'hard']\n",
    "ATTEMPTS = 15"
   ]
  },
  {
   "cell_type": "code",
   "execution_count": 6,
   "id": "a3b1be18",
   "metadata": {},
   "outputs": [],
   "source": [
    "def validated_input(condition, prompt, fail_prompt='INVALID INPUT', apply=None):\n",
    "    \"\"\"\n",
    "    :param condition: Function object that accepts a string representing user input and returns a boolean value\n",
    "    :param prompt: Prompt for the user input\n",
    "    :param fail_prompt: Warning to display to user in case the condition fails\n",
    "    :param apply: Function object to post-process the validated input\n",
    "    :return: a validated user input:\n",
    "    \"\"\"\n",
    "    while True:\n",
    "        test = input(prompt)\n",
    "        if condition(test):\n",
    "            break\n",
    "        else:\n",
    "            print(fail_prompt)\n",
    "    return test if apply is None else apply(test)\n",
    "\n",
    "def start():\n",
    "    print(PROMPT)\n",
    "    prompt = 'Choose a difficulty (easy/medium/hard): '\n",
    "    difficulty = validated_input(lambda x: x.lower() in OPTIONS, prompt, apply=lambda x: x.lower())\n",
    "    return round(ATTEMPTS/(OPTIONS.index(difficulty)+1))\n",
    "\n",
    "def guess(remaining):\n",
    "    \"\"\"Displays the remaining number of attempts and returns a validated input for the user's guess\"\"\"\n",
    "    print(f'You have {remaining} remaining guesses.')\n",
    "    prompt = 'Make a Guess: '\n",
    "    return validated_input(lambda x: x.isdigit(), prompt, apply=lambda x: int(x))"
   ]
  },
  {
   "cell_type": "code",
   "execution_count": 3,
   "id": "16deebee",
   "metadata": {},
   "outputs": [],
   "source": [
    "from random import randint\n",
    "def game():\n",
    "    print(LOGO)\n",
    "    \n",
    "    answer = randint(1,100)\n",
    "    difficulty = start()\n",
    "    \n",
    "    for i in range(difficulty):\n",
    "        num = guess(difficulty-i)\n",
    "        if num == answer:\n",
    "            print(f'You got the correct answer ({answer})!')\n",
    "            return\n",
    "        else:\n",
    "            print(f\"Wrong guess: too {'low' if num < answer else 'high'}\")\n",
    "    \n",
    "    print('Game Over: You ran out of guesses.')\n",
    "    print(f'Correct answer: {answer}')"
   ]
  },
  {
   "cell_type": "code",
   "execution_count": 4,
   "id": "5761c673",
   "metadata": {},
   "outputs": [
    {
     "name": "stdout",
     "output_type": "stream",
     "text": [
      "\n",
      "                                                                    )                                                 \n",
      " (                                     *   )      )              ( /(                      )                          \n",
      " )\\ )       (      (                 ` )  /(   ( /(     (        )\\())    (       )     ( /(     (    (               \n",
      "(()/(      ))\\    ))\\   (    (        ( )(_))  )\\())   ))\\      ((_)\\    ))\\     (      )\\())   ))\\   )(         __   \n",
      " /(_))_   /((_)  /((_)  )\\   )\\      (_(_())  ((_)\\   /((_)      _((_)  /((_)    )\\  ' ((_)\\   /((_) (()\\     _  \\ \\  \n",
      "(_)) __| (_))(  (_))   ((_) ((_)     |_   _|  | |(_) (_))       | \\| | (_))(   _((_))  | |(_) (_))    ((_)   (_)  | | \n",
      "  | (_ | | || | / -_)  (_-< (_-<       | |    | ' \\  / -_)      | .` | | || | | '  \\() | '_ \\ / -_)  | '_|    _   | | \n",
      "   \\___|  \\_,_| \\___|  /__/ /__/       |_|    |_||_| \\___|      |_|\\_|  \\_,_| |_|_|_|  |_.__/ \\___|  |_|     (_) /_/  \n",
      "                                                                                                                      \n",
      "\n",
      "\n",
      "Welcome to the Number Guessing Game!\n",
      "I'm thinking of a number between 1 and 100.\n",
      "\n",
      "Choose a difficulty (easy/medium/hard): hard\n",
      "You have 5 remaining guesses.\n",
      "Make a Guess: 6.\n",
      "INVALID INPUT\n",
      "Make a Guess: 50\n",
      "Wrong guess: too high\n",
      "You have 4 remaining guesses.\n",
      "Make a Guess: 25\n",
      "Wrong guess: too low\n",
      "You have 3 remaining guesses.\n",
      "Make a Guess: 37\n",
      "Wrong guess: too low\n",
      "You have 2 remaining guesses.\n",
      "Make a Guess: 44\n",
      "Wrong guess: too low\n",
      "You have 1 remaining guesses.\n",
      "Make a Guess: 47\n",
      "Wrong guess: too low\n",
      "Game Over: You ran out of guesses.\n",
      "Correct answer: 48\n"
     ]
    }
   ],
   "source": [
    "game()"
   ]
  },
  {
   "cell_type": "code",
   "execution_count": null,
   "id": "975ed26d",
   "metadata": {},
   "outputs": [],
   "source": []
  }
 ],
 "metadata": {
  "kernelspec": {
   "display_name": "Python 3 (ipykernel)",
   "language": "python",
   "name": "python3"
  },
  "language_info": {
   "codemirror_mode": {
    "name": "ipython",
    "version": 3
   },
   "file_extension": ".py",
   "mimetype": "text/x-python",
   "name": "python",
   "nbconvert_exporter": "python",
   "pygments_lexer": "ipython3",
   "version": "3.7.3"
  }
 },
 "nbformat": 4,
 "nbformat_minor": 5
}
