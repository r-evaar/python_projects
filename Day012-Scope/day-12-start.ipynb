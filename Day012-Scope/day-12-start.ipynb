{
 "cells": [
  {
   "cell_type": "code",
   "execution_count": 1,
   "id": "b3154613",
   "metadata": {},
   "outputs": [
    {
     "name": "stdout",
     "output_type": "stream",
     "text": [
      "enemies inside function: 2\n",
      "enemies outside function: 1\n"
     ]
    }
   ],
   "source": [
    "enemies = 1\n",
    "\n",
    "def increase_enemies():\n",
    "    enemies = 2\n",
    "    print(f\"enemies inside function: {enemies}\")\n",
    "\n",
    "increase_enemies()\n",
    "print(f\"enemies outside function: {enemies}\")"
   ]
  },
  {
   "cell_type": "code",
   "execution_count": 2,
   "id": "c0562016",
   "metadata": {},
   "outputs": [
    {
     "name": "stdout",
     "output_type": "stream",
     "text": [
      "Skeleton\n"
     ]
    }
   ],
   "source": [
    "# There is no block scope in Python\n",
    "'''\n",
    "Examlple\n",
    "if (condi)\n",
    "'''\n",
    "game_level = 3\n",
    "enemies = [\"Skeleton\", \"Zombie\", \"Alien\"]\n",
    "if game_level < 5:\n",
    "    new_enemy = enemies[0]\n",
    "    \n",
    "print(new_enemy)"
   ]
  },
  {
   "cell_type": "markdown",
   "id": "8b333e6d",
   "metadata": {},
   "source": [
    "### Modifying a Global Variable (Not Recommended)"
   ]
  },
  {
   "cell_type": "code",
   "execution_count": 3,
   "id": "dfba4196",
   "metadata": {},
   "outputs": [
    {
     "name": "stdout",
     "output_type": "stream",
     "text": [
      "enemies inside function: 3\n"
     ]
    }
   ],
   "source": [
    "enemies = 1\n",
    "\n",
    "def increase_enemies():\n",
    "    global enemies\n",
    "    enemies += 2\n",
    "    print(f\"enemies inside function: {enemies}\")\n",
    "    \n",
    "increase_enemies()"
   ]
  },
  {
   "cell_type": "markdown",
   "id": "b2571be5",
   "metadata": {},
   "source": [
    "#### The better way to do it:"
   ]
  },
  {
   "cell_type": "code",
   "execution_count": 5,
   "id": "fa4e907b",
   "metadata": {},
   "outputs": [
    {
     "name": "stdout",
     "output_type": "stream",
     "text": [
      "enemies inside function: 1\n",
      "enemies outside function: 3\n"
     ]
    }
   ],
   "source": [
    "enemies = 1\n",
    "\n",
    "def increase_enemies():\n",
    "    print(f\"enemies inside function: {enemies}\")\n",
    "    return enemies + 2\n",
    "    \n",
    "enemies = increase_enemies()\n",
    "print(f\"enemies outside function: {enemies}\")"
   ]
  },
  {
   "cell_type": "markdown",
   "id": "993b51ad",
   "metadata": {},
   "source": [
    "### When to use Global Variables?"
   ]
  },
  {
   "cell_type": "code",
   "execution_count": 6,
   "id": "789c2168",
   "metadata": {},
   "outputs": [
    {
     "data": {
      "text/plain": [
       "6.28318"
      ]
     },
     "execution_count": 6,
     "metadata": {},
     "output_type": "execute_result"
    }
   ],
   "source": [
    "# Global Constants\n",
    "# The naming convention in Python is to turn it all into upper case\n",
    "PI = 3.14159\n",
    "URL = \"https://www.google.com\"\n",
    "TWITTER_HANDLE = \"@yu_angela\"\n",
    "\n",
    "def calc():\n",
    "    return PI*2\n",
    "\n",
    "calc()"
   ]
  },
  {
   "cell_type": "code",
   "execution_count": null,
   "id": "24ac6d2a",
   "metadata": {},
   "outputs": [],
   "source": []
  }
 ],
 "metadata": {
  "kernelspec": {
   "display_name": "Python 3 (ipykernel)",
   "language": "python",
   "name": "python3"
  },
  "language_info": {
   "codemirror_mode": {
    "name": "ipython",
    "version": 3
   },
   "file_extension": ".py",
   "mimetype": "text/x-python",
   "name": "python",
   "nbconvert_exporter": "python",
   "pygments_lexer": "ipython3",
   "version": "3.7.3"
  }
 },
 "nbformat": 4,
 "nbformat_minor": 5
}
