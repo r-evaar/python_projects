{
 "cells": [
  {
   "cell_type": "code",
   "execution_count": 1,
   "id": "dadec75f",
   "metadata": {},
   "outputs": [],
   "source": [
    "from words import generate_word"
   ]
  },
  {
   "cell_type": "code",
   "execution_count": 2,
   "id": "5f2ed2c4",
   "metadata": {},
   "outputs": [],
   "source": [
    "def draw_hungman(n=0):\n",
    "    n_max=6\n",
    "    n = min(n_max,n)\n",
    "    limbs = ['0', '¥', '/', '\\\\', 'í', 'ì']\n",
    "    p = [' ']*n_max\n",
    "    for i in range(n):\n",
    "        p[i] = limbs[i]\n",
    "        \n",
    "    hungman = f'''\n",
    "    __________\n",
    "    \\/       |\n",
    "    /\\\\       |\n",
    "    \\/       {p[0]}\n",
    "    /\\\\      {p[2]}{p[1]}{p[3]}\n",
    "    \\/      {p[4]} {p[5]}\n",
    "    /\\\\\n",
    "    ========\n",
    "    '''\n",
    "    \n",
    "    print(hungman)"
   ]
  },
  {
   "cell_type": "code",
   "execution_count": 3,
   "id": "f902e51a",
   "metadata": {},
   "outputs": [],
   "source": [
    "def print_blanks(word):\n",
    "    blanks = ''.join(['*']*len(word))\n",
    "    draw_hungman()\n",
    "    print(f\"Mystery word: {blanks}\")\n",
    "    return blanks"
   ]
  },
  {
   "cell_type": "code",
   "execution_count": 4,
   "id": "1fd34bbc",
   "metadata": {},
   "outputs": [],
   "source": [
    "def update_blanks(blanks, char, word):\n",
    "    for i, c in enumerate(word):\n",
    "        if c==char:\n",
    "            blanks = blanks[:i] + c + blanks[i+1:]\n",
    "    print(f\"Mystery word: {blanks}\")\n",
    "    return blanks"
   ]
  },
  {
   "cell_type": "code",
   "execution_count": 29,
   "id": "f59ee655",
   "metadata": {},
   "outputs": [
    {
     "name": "stdout",
     "output_type": "stream",
     "text": [
      "Attempted: ['c', 'i', 'a', 'r', 'v', 'd', 't', 'e']\n",
      "\n",
      "    __________\n",
      "    \\/       |\n",
      "    /\\       |\n",
      "    \\/       0\n",
      "    /\\      /¥\\\n",
      "    \\/      í ì\n",
      "    /\\\n",
      "    ========\n",
      "    \n",
      "Mystery word: a*i*a*\n",
      "You Lost!\n",
      "Mystery word: animal\n"
     ]
    }
   ],
   "source": [
    "# MAIN\n",
    "from IPython.display import clear_output\n",
    "\n",
    "word = generate_word()\n",
    "blanks = print_blanks(word)\n",
    "\n",
    "win = False\n",
    "n_limbs = 6\n",
    "remaining_limbs = n_limbs\n",
    "used = []\n",
    "while True:\n",
    "    c = input(\"Guess a letter: \")[0].lower()\n",
    "    \n",
    "    if c in used:\n",
    "        print(\"Letter already attempted!\")\n",
    "        continue\n",
    "    else:\n",
    "        used.append(c)\n",
    "        clear_output()\n",
    "        \n",
    "    print(f\"Attempted: {used}\")\n",
    "        \n",
    "    if c in word:\n",
    "        draw_hungman(n_limbs-remaining_limbs)\n",
    "        blanks = update_blanks(blanks, c, word)\n",
    "        if blanks==word:\n",
    "            win = True\n",
    "            break\n",
    "    else:\n",
    "        remaining_limbs-=1\n",
    "        draw_hungman(n_limbs-remaining_limbs)\n",
    "        print(f\"Mystery word: {blanks}\")\n",
    "        if not remaining_limbs:\n",
    "            break\n",
    "    \n",
    "print(f\"You {'Won' if win else 'Lost'}!\")\n",
    "print(f\"Mystery word: {word}\" if not win else \"\")"
   ]
  },
  {
   "cell_type": "code",
   "execution_count": null,
   "id": "2cbb2904",
   "metadata": {},
   "outputs": [],
   "source": []
  }
 ],
 "metadata": {
  "kernelspec": {
   "display_name": "Python 3 (ipykernel)",
   "language": "python",
   "name": "python3"
  },
  "language_info": {
   "codemirror_mode": {
    "name": "ipython",
    "version": 3
   },
   "file_extension": ".py",
   "mimetype": "text/x-python",
   "name": "python",
   "nbconvert_exporter": "python",
   "pygments_lexer": "ipython3",
   "version": "3.7.3"
  }
 },
 "nbformat": 4,
 "nbformat_minor": 5
}
