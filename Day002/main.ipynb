{
 "cells": [
  {
   "cell_type": "code",
   "execution_count": 1,
   "id": "ccb8d16d",
   "metadata": {},
   "outputs": [
    {
     "data": {
      "text/plain": [
       "'H'"
      ]
     },
     "execution_count": 1,
     "metadata": {},
     "output_type": "execute_result"
    }
   ],
   "source": [
    "\"Hello\"[0]"
   ]
  },
  {
   "cell_type": "code",
   "execution_count": 2,
   "id": "c2cefb0c",
   "metadata": {},
   "outputs": [
    {
     "data": {
      "text/plain": [
       "1000000"
      ]
     },
     "execution_count": 2,
     "metadata": {},
     "output_type": "execute_result"
    }
   ],
   "source": [
    "1_000_000"
   ]
  },
  {
   "cell_type": "code",
   "execution_count": 3,
   "id": "806f97bb",
   "metadata": {},
   "outputs": [
    {
     "data": {
      "text/plain": [
       "1499.99"
      ]
     },
     "execution_count": 3,
     "metadata": {},
     "output_type": "execute_result"
    }
   ],
   "source": [
    "1_499.99"
   ]
  },
  {
   "cell_type": "code",
   "execution_count": 4,
   "id": "ec608752",
   "metadata": {},
   "outputs": [
    {
     "ename": "TypeError",
     "evalue": "object of type 'int' has no len()",
     "output_type": "error",
     "traceback": [
      "\u001b[1;31m---------------------------------------------------------------------------\u001b[0m",
      "\u001b[1;31mTypeError\u001b[0m                                 Traceback (most recent call last)",
      "\u001b[1;32m~\\AppData\\Local\\Temp\\ipykernel_1296\\2420190363.py\u001b[0m in \u001b[0;36m<module>\u001b[1;34m\u001b[0m\n\u001b[1;32m----> 1\u001b[1;33m \u001b[0mlen\u001b[0m\u001b[1;33m(\u001b[0m\u001b[1;36m569\u001b[0m\u001b[1;33m)\u001b[0m\u001b[1;33m\u001b[0m\u001b[1;33m\u001b[0m\u001b[0m\n\u001b[0m",
      "\u001b[1;31mTypeError\u001b[0m: object of type 'int' has no len()"
     ]
    }
   ],
   "source": [
    "len(569)"
   ]
  },
  {
   "cell_type": "code",
   "execution_count": 5,
   "id": "85a0ed01",
   "metadata": {},
   "outputs": [
    {
     "data": {
      "text/plain": [
       "'569'"
      ]
     },
     "execution_count": 5,
     "metadata": {},
     "output_type": "execute_result"
    }
   ],
   "source": [
    "str(569)"
   ]
  },
  {
   "cell_type": "code",
   "execution_count": 24,
   "id": "f838ef8f",
   "metadata": {},
   "outputs": [
    {
     "name": "stdout",
     "output_type": "stream",
     "text": [
      "enter a 2-digit number: 55\n",
      "10\n"
     ]
    }
   ],
   "source": [
    "num = input('enter a 2-digit number: ')\n",
    "if len(num)==2 and num.isnumeric():\n",
    "    print(int(num[0])+int(num[1]))\n",
    "else:\n",
    "    print('Invalid Input')"
   ]
  },
  {
   "cell_type": "code",
   "execution_count": 40,
   "id": "a8891606",
   "metadata": {},
   "outputs": [],
   "source": [
    "def BMI(weight, height):\n",
    "    args = [weight, height]\n",
    "    for i, arg in enumerate(args):\n",
    "        if type(arg)==str:\n",
    "            args[i] = float(arg)\n",
    "    return args[0]/args[1]**2"
   ]
  },
  {
   "cell_type": "code",
   "execution_count": 42,
   "id": "13b96c42",
   "metadata": {},
   "outputs": [
    {
     "name": "stdout",
     "output_type": "stream",
     "text": [
      "enter your weight in kg: 76\n",
      "enter your height in m: 1.75\n"
     ]
    },
    {
     "data": {
      "text/plain": [
       "24.816326530612244"
      ]
     },
     "execution_count": 42,
     "metadata": {},
     "output_type": "execute_result"
    }
   ],
   "source": [
    "BMI(input('enter your weight in kg: '), input('enter your height in m: '))"
   ]
  },
  {
   "cell_type": "code",
   "execution_count": 43,
   "id": "7811c530",
   "metadata": {},
   "outputs": [
    {
     "name": "stdout",
     "output_type": "stream",
     "text": [
      "2.6666666666666665\n"
     ]
    }
   ],
   "source": [
    "print(8/3)"
   ]
  },
  {
   "cell_type": "code",
   "execution_count": 44,
   "id": "3e291a6e",
   "metadata": {},
   "outputs": [
    {
     "name": "stdout",
     "output_type": "stream",
     "text": [
      "2\n"
     ]
    }
   ],
   "source": [
    "print(int(8/3))"
   ]
  },
  {
   "cell_type": "code",
   "execution_count": 46,
   "id": "32794c2e",
   "metadata": {},
   "outputs": [
    {
     "name": "stdout",
     "output_type": "stream",
     "text": [
      "2.67\n"
     ]
    }
   ],
   "source": [
    "print(round(8/3,2))"
   ]
  },
  {
   "cell_type": "code",
   "execution_count": 48,
   "id": "cdfe9d9f",
   "metadata": {},
   "outputs": [
    {
     "name": "stdout",
     "output_type": "stream",
     "text": [
      "2\n"
     ]
    }
   ],
   "source": [
    "print(8//3)"
   ]
  },
  {
   "cell_type": "code",
   "execution_count": 49,
   "id": "bd936cf0",
   "metadata": {},
   "outputs": [
    {
     "name": "stdout",
     "output_type": "stream",
     "text": [
      "2.0\n"
     ]
    }
   ],
   "source": [
    "print(4/2)"
   ]
  },
  {
   "cell_type": "code",
   "execution_count": 50,
   "id": "06c6bab3",
   "metadata": {},
   "outputs": [
    {
     "name": "stdout",
     "output_type": "stream",
     "text": [
      "2\n"
     ]
    }
   ],
   "source": [
    "print(4//2)"
   ]
  },
  {
   "cell_type": "code",
   "execution_count": 56,
   "id": "7a9afe8c",
   "metadata": {},
   "outputs": [],
   "source": [
    "def weeks_left(current, expected=90):\n",
    "    remaining_weeks = 52*(expected-current)\n",
    "    print(f\"You have {remaining_weeks} weeks left before you reach {expected}\")"
   ]
  },
  {
   "cell_type": "code",
   "execution_count": 58,
   "id": "380956a9",
   "metadata": {},
   "outputs": [
    {
     "name": "stdout",
     "output_type": "stream",
     "text": [
      "Enter your age: 67\n",
      "You have 1196 weeks left before you reach 90\n"
     ]
    }
   ],
   "source": [
    "weeks_left(int(input(\"Enter your age: \")))"
   ]
  },
  {
   "cell_type": "code",
   "execution_count": 69,
   "id": "2cfdd930",
   "metadata": {},
   "outputs": [
    {
     "name": "stdout",
     "output_type": "stream",
     "text": [
      "What was the total bill: 124.56\n",
      "Select tip percentage [10,12,15]: 12\n",
      "How many people to split the bill: 7\n",
      "Each person should pay: $19.93\n"
     ]
    }
   ],
   "source": [
    "total = float(input('What was the total bill: '))\n",
    "tip = int(input('Select tip percentage [10,12,15]: '))\n",
    "people = int(input('How many people to split the bill: '))\n",
    "print(\"Each person should pay: $%.2f\" % (total*(1+tip*0.01)/people) )"
   ]
  },
  {
   "cell_type": "code",
   "execution_count": 65,
   "id": "910177a4",
   "metadata": {},
   "outputs": [
    {
     "data": {
      "text/plain": [
       "19.9296"
      ]
     },
     "execution_count": 65,
     "metadata": {},
     "output_type": "execute_result"
    }
   ],
   "source": [
    "total*(1+tip*0.01)/people"
   ]
  },
  {
   "cell_type": "code",
   "execution_count": 71,
   "id": "41a73132",
   "metadata": {},
   "outputs": [
    {
     "data": {
      "text/plain": [
       "'6.20, 003.5, 2'"
      ]
     },
     "execution_count": 71,
     "metadata": {},
     "output_type": "execute_result"
    }
   ],
   "source": [
    "\"%.2f, %05.1f, %i\" % ((5.2+1), 3.5, 2)"
   ]
  },
  {
   "cell_type": "code",
   "execution_count": null,
   "id": "ca1089f4",
   "metadata": {},
   "outputs": [],
   "source": []
  }
 ],
 "metadata": {
  "kernelspec": {
   "display_name": "Python 3 (ipykernel)",
   "language": "python",
   "name": "python3"
  },
  "language_info": {
   "codemirror_mode": {
    "name": "ipython",
    "version": 3
   },
   "file_extension": ".py",
   "mimetype": "text/x-python",
   "name": "python",
   "nbconvert_exporter": "python",
   "pygments_lexer": "ipython3",
   "version": "3.7.3"
  }
 },
 "nbformat": 4,
 "nbformat_minor": 5
}
